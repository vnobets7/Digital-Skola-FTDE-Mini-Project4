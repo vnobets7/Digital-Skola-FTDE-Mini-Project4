{
 "cells": [
  {
   "cell_type": "code",
   "execution_count": 1,
   "id": "cc6e0812-ad5b-4a21-b98a-0eb77c54a388",
   "metadata": {
    "tags": []
   },
   "outputs": [
    {
     "name": "stdout",
     "output_type": "stream",
     "text": [
      "MongoDB connection successful: {'ok': 1.0}\n",
      "Databases: ['admin', 'config', 'ftde02', 'local']\n"
     ]
    }
   ],
   "source": [
    "from pymongo import MongoClient\n",
    "\n",
    "try:\n",
    "    server = MongoClient('mongodb://127.0.0.1:27017')\n",
    "    db = server.admin\n",
    "    server_status = db.command(\"ping\")\n",
    "    print(\"MongoDB connection successful:\", server_status)\n",
    "\n",
    "    databases = server.list_database_names()\n",
    "    print(\"Databases:\", databases)\n",
    "\n",
    "except Exception as e:\n",
    "    print(\"An error occurred:\", e)"
   ]
  },
  {
   "cell_type": "code",
   "execution_count": 8,
   "id": "acb5683d-959c-4acc-96a5-39b66452f155",
   "metadata": {},
   "outputs": [
    {
     "name": "stdout",
     "output_type": "stream",
     "text": [
      "Data telah disimpan ke MongoDB\n"
     ]
    }
   ],
   "source": [
    "import pandas as pd\n",
    "\n",
    "data = pd.DataFrame({'Nama':['Rahmat','Hidayat'],\n",
    "                     'Usia':[25,26]})\n",
    "\n",
    "db = server[\"ftde02\"]\n",
    "collection = db[\"mongo-tes\"]\n",
    "\n",
    "if isinstance(data.to_dict('index')[1], list):\n",
    "    collection.insert_many(data.to_dict('index')[1])\n",
    "else:\n",
    "    collection.insert_one(data.to_dict('index')[1])        \n",
    "    print(\"Data telah disimpan ke MongoDB\")"
   ]
  },
  {
   "cell_type": "code",
   "execution_count": null,
   "id": "0ecee35a-842d-4a68-8817-bbde9a8c2f64",
   "metadata": {},
   "outputs": [],
   "source": []
  }
 ],
 "metadata": {
  "kernelspec": {
   "display_name": "Python 3 (ipykernel)",
   "language": "python",
   "name": "python3"
  },
  "language_info": {
   "codemirror_mode": {
    "name": "ipython",
    "version": 3
   },
   "file_extension": ".py",
   "mimetype": "text/x-python",
   "name": "python",
   "nbconvert_exporter": "python",
   "pygments_lexer": "ipython3",
   "version": "3.10.14"
  }
 },
 "nbformat": 4,
 "nbformat_minor": 5
}
