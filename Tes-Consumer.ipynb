{
 "cells": [
  {
   "cell_type": "code",
   "execution_count": 2,
   "id": "500993e3-0b68-4903-be57-8226e01b9f50",
   "metadata": {
    "tags": []
   },
   "outputs": [
    {
     "name": "stdout",
     "output_type": "stream",
     "text": [
      "Starting the consumer\n",
      "Records = {'step': 1, 'type': 'PAYMENT', 'amount': 1157.86, 'nameOrig': 'C1237762639', 'newbalanceOrig': 19998.14, 'nameDest': 'M1877062907', 'newbalanceDest': 0.0}\n",
      "Records = {'step': 1, 'type': 'PAYMENT', 'amount': 671.64, 'nameOrig': 'C2033524545', 'newbalanceOrig': 14451.36, 'nameDest': 'M473053293', 'newbalanceDest': 0.0}\n",
      "Records = {'step': 1, 'type': 'TRANSFER', 'amount': 215310.3, 'nameOrig': 'C1670993182', 'newbalanceOrig': 0.0, 'nameDest': 'C1100439041', 'newbalanceDest': 0.0}\n",
      "Records = {'step': 1, 'type': 'PAYMENT', 'amount': 1373.43, 'nameOrig': 'C20804602', 'newbalanceOrig': 12480.57, 'nameDest': 'M1344519051', 'newbalanceDest': 0.0}\n",
      "Records = {'step': 1, 'type': 'DEBIT', 'amount': 9302.79, 'nameOrig': 'C1566511282', 'newbalanceOrig': 1996.21, 'nameDest': 'C1973538135', 'newbalanceDest': 16896.7}\n",
      "Records = {'step': 1, 'type': 'DEBIT', 'amount': 1065.41, 'nameOrig': 'C1959239586', 'newbalanceOrig': 751.59, 'nameDest': 'C515132998', 'newbalanceDest': 0.0}\n",
      "Records = {'step': 1, 'type': 'PAYMENT', 'amount': 3876.41, 'nameOrig': 'C504336483', 'newbalanceOrig': 63975.59, 'nameDest': 'M1404932042', 'newbalanceDest': 0.0}\n",
      "Records = {'step': 1, 'type': 'TRANSFER', 'amount': 311685.89, 'nameOrig': 'C1984094095', 'newbalanceOrig': 0.0, 'nameDest': 'C932583850', 'newbalanceDest': 2719172.89}\n",
      "Records = {'step': 1, 'type': 'PAYMENT', 'amount': 6061.13, 'nameOrig': 'C1043358826', 'newbalanceOrig': 0.0, 'nameDest': 'M1558079303', 'newbalanceDest': 0.0}\n",
      "Records = {'step': 1, 'type': 'PAYMENT', 'amount': 9478.39, 'nameOrig': 'C1671590089', 'newbalanceOrig': 107015.61, 'nameDest': 'M58488213', 'newbalanceDest': 0.0}\n",
      "Records = {'step': 1, 'type': 'PAYMENT', 'amount': 8009.09, 'nameOrig': 'C1053967012', 'newbalanceOrig': 2958.91, 'nameDest': 'M295304806', 'newbalanceDest': 0.0}\n",
      "Records = {'step': 1, 'type': 'PAYMENT', 'amount': 8901.99, 'nameOrig': 'C1632497828', 'newbalanceOrig': 0.0, 'nameDest': 'M33419717', 'newbalanceDest': 0.0}\n",
      "Records = {'step': 1, 'type': 'PAYMENT', 'amount': 9920.52, 'nameOrig': 'C764826684', 'newbalanceOrig': 0.0, 'nameDest': 'M1940055334', 'newbalanceDest': 0.0}\n",
      "Records = {'step': 1, 'type': 'PAYMENT', 'amount': 3448.92, 'nameOrig': 'C2103763750', 'newbalanceOrig': 0.0, 'nameDest': 'M335107734', 'newbalanceDest': 0.0}\n",
      "Records = {'step': 1, 'type': 'PAYMENT', 'amount': 4206.84, 'nameOrig': 'C215078753', 'newbalanceOrig': 0.0, 'nameDest': 'M1757317128', 'newbalanceDest': 0.0}\n",
      "Records = {'step': 1, 'type': 'PAYMENT', 'amount': 5885.56, 'nameOrig': 'C840514538', 'newbalanceOrig': 0.0, 'nameDest': 'M1804441305', 'newbalanceDest': 0.0}\n",
      "Records = {'step': 1, 'type': 'PAYMENT', 'amount': 5307.88, 'nameOrig': 'C1768242710', 'newbalanceOrig': 0.0, 'nameDest': 'M1971783162', 'newbalanceDest': 0.0}\n",
      "Records = {'step': 1, 'type': 'PAYMENT', 'amount': 5031.22, 'nameOrig': 'C247113419', 'newbalanceOrig': 0.0, 'nameDest': 'M151442075', 'newbalanceDest': 0.0}\n",
      "Records = {'step': 1, 'type': 'PAYMENT', 'amount': 24213.67, 'nameOrig': 'C1238616099', 'newbalanceOrig': 0.0, 'nameDest': 'M70695990', 'newbalanceDest': 0.0}\n",
      "Records = {'step': 1, 'type': 'PAYMENT', 'amount': 8603.42, 'nameOrig': 'C1608633989', 'newbalanceOrig': 0.0, 'nameDest': 'M1615617512', 'newbalanceDest': 0.0}\n",
      "Records = {'step': 1, 'type': 'PAYMENT', 'amount': 2791.42, 'nameOrig': 'C923341586', 'newbalanceOrig': 297689.58, 'nameDest': 'M107994825', 'newbalanceDest': 0.0}\n",
      "Records = {'step': 1, 'type': 'PAYMENT', 'amount': 7413.54, 'nameOrig': 'C1470868839', 'newbalanceOrig': 290276.03, 'nameDest': 'M1426725223', 'newbalanceDest': 0.0}\n",
      "Records = {'step': 1, 'type': 'PAYMENT', 'amount': 3295.19, 'nameOrig': 'C711197015', 'newbalanceOrig': 230337.81, 'nameDest': 'M1384454980', 'newbalanceDest': 0.0}\n",
      "Records = {'step': 1, 'type': 'PAYMENT', 'amount': 1684.81, 'nameOrig': 'C1481594086', 'newbalanceOrig': 0.0, 'nameDest': 'M1569435561', 'newbalanceDest': 0.0}\n",
      "Records = {'step': 1, 'type': 'DEBIT', 'amount': 5758.59, 'nameOrig': 'C1466917878', 'newbalanceOrig': 26845.41, 'nameDest': 'C1297685781', 'newbalanceDest': 16997.22}\n",
      "Records = {'step': 1, 'type': 'CASH_OUT', 'amount': 110414.71, 'nameOrig': 'C768216420', 'newbalanceOrig': 0.0, 'nameDest': 'C1509514333', 'newbalanceDest': 2415.16}\n",
      "Records = {'step': 1, 'type': 'PAYMENT', 'amount': 7823.46, 'nameOrig': 'C260084831', 'newbalanceOrig': 0.0, 'nameDest': 'M267814113', 'newbalanceDest': 0.0}\n"
     ]
    },
    {
     "ename": "KeyboardInterrupt",
     "evalue": "",
     "output_type": "error",
     "traceback": [
      "\u001b[1;31m---------------------------------------------------------------------------\u001b[0m",
      "\u001b[1;31mKeyboardInterrupt\u001b[0m                         Traceback (most recent call last)",
      "Cell \u001b[1;32mIn[2], line 8\u001b[0m\n\u001b[0;32m      5\u001b[0m consumer \u001b[38;5;241m=\u001b[39m KafkaConsumer(\u001b[38;5;124m\"\u001b[39m\u001b[38;5;124mftde02-project4\u001b[39m\u001b[38;5;124m\"\u001b[39m, bootstrap_servers\u001b[38;5;241m=\u001b[39m\u001b[38;5;124m'\u001b[39m\u001b[38;5;124mlocalhost:9093\u001b[39m\u001b[38;5;124m'\u001b[39m)\n\u001b[0;32m      6\u001b[0m \u001b[38;5;28mprint\u001b[39m(\u001b[38;5;124m\"\u001b[39m\u001b[38;5;124mStarting the consumer\u001b[39m\u001b[38;5;124m\"\u001b[39m)\n\u001b[1;32m----> 8\u001b[0m \u001b[38;5;28;01mfor\u001b[39;00m msg \u001b[38;5;129;01min\u001b[39;00m consumer:\n\u001b[0;32m      9\u001b[0m     \u001b[38;5;28mprint\u001b[39m(\u001b[38;5;124mf\u001b[39m\u001b[38;5;124m\"\u001b[39m\u001b[38;5;124mRecords = \u001b[39m\u001b[38;5;132;01m{\u001b[39;00mjson\u001b[38;5;241m.\u001b[39mloads(msg\u001b[38;5;241m.\u001b[39mvalue)\u001b[38;5;132;01m}\u001b[39;00m\u001b[38;5;124m\"\u001b[39m)\n\u001b[0;32m     11\u001b[0m     \u001b[38;5;66;03m# Parsing pesan Kafka\u001b[39;00m\n",
      "File \u001b[1;32mc:\\Users\\RickyS-PC\\miniconda3\\envs\\ftde-final-project\\lib\\site-packages\\kafka\\consumer\\group.py:1193\u001b[0m, in \u001b[0;36mKafkaConsumer.__next__\u001b[1;34m(self)\u001b[0m\n\u001b[0;32m   1191\u001b[0m     \u001b[38;5;28;01mreturn\u001b[39;00m \u001b[38;5;28mself\u001b[39m\u001b[38;5;241m.\u001b[39mnext_v1()\n\u001b[0;32m   1192\u001b[0m \u001b[38;5;28;01melse\u001b[39;00m:\n\u001b[1;32m-> 1193\u001b[0m     \u001b[38;5;28;01mreturn\u001b[39;00m \u001b[38;5;28;43mself\u001b[39;49m\u001b[38;5;241;43m.\u001b[39;49m\u001b[43mnext_v2\u001b[49m\u001b[43m(\u001b[49m\u001b[43m)\u001b[49m\n",
      "File \u001b[1;32mc:\\Users\\RickyS-PC\\miniconda3\\envs\\ftde-final-project\\lib\\site-packages\\kafka\\consumer\\group.py:1201\u001b[0m, in \u001b[0;36mKafkaConsumer.next_v2\u001b[1;34m(self)\u001b[0m\n\u001b[0;32m   1199\u001b[0m     \u001b[38;5;28mself\u001b[39m\u001b[38;5;241m.\u001b[39m_iterator \u001b[38;5;241m=\u001b[39m \u001b[38;5;28mself\u001b[39m\u001b[38;5;241m.\u001b[39m_message_generator_v2()\n\u001b[0;32m   1200\u001b[0m \u001b[38;5;28;01mtry\u001b[39;00m:\n\u001b[1;32m-> 1201\u001b[0m     \u001b[38;5;28;01mreturn\u001b[39;00m \u001b[38;5;28;43mnext\u001b[39;49m\u001b[43m(\u001b[49m\u001b[38;5;28;43mself\u001b[39;49m\u001b[38;5;241;43m.\u001b[39;49m\u001b[43m_iterator\u001b[49m\u001b[43m)\u001b[49m\n\u001b[0;32m   1202\u001b[0m \u001b[38;5;28;01mexcept\u001b[39;00m \u001b[38;5;167;01mStopIteration\u001b[39;00m:\n\u001b[0;32m   1203\u001b[0m     \u001b[38;5;28mself\u001b[39m\u001b[38;5;241m.\u001b[39m_iterator \u001b[38;5;241m=\u001b[39m \u001b[38;5;28;01mNone\u001b[39;00m\n",
      "File \u001b[1;32mc:\\Users\\RickyS-PC\\miniconda3\\envs\\ftde-final-project\\lib\\site-packages\\kafka\\consumer\\group.py:1116\u001b[0m, in \u001b[0;36mKafkaConsumer._message_generator_v2\u001b[1;34m(self)\u001b[0m\n\u001b[0;32m   1114\u001b[0m \u001b[38;5;28;01mdef\u001b[39;00m \u001b[38;5;21m_message_generator_v2\u001b[39m(\u001b[38;5;28mself\u001b[39m):\n\u001b[0;32m   1115\u001b[0m     timeout_ms \u001b[38;5;241m=\u001b[39m \u001b[38;5;241m1000\u001b[39m \u001b[38;5;241m*\u001b[39m (\u001b[38;5;28mself\u001b[39m\u001b[38;5;241m.\u001b[39m_consumer_timeout \u001b[38;5;241m-\u001b[39m time\u001b[38;5;241m.\u001b[39mtime())\n\u001b[1;32m-> 1116\u001b[0m     record_map \u001b[38;5;241m=\u001b[39m \u001b[38;5;28;43mself\u001b[39;49m\u001b[38;5;241;43m.\u001b[39;49m\u001b[43mpoll\u001b[49m\u001b[43m(\u001b[49m\u001b[43mtimeout_ms\u001b[49m\u001b[38;5;241;43m=\u001b[39;49m\u001b[43mtimeout_ms\u001b[49m\u001b[43m,\u001b[49m\u001b[43m \u001b[49m\u001b[43mupdate_offsets\u001b[49m\u001b[38;5;241;43m=\u001b[39;49m\u001b[38;5;28;43;01mFalse\u001b[39;49;00m\u001b[43m)\u001b[49m\n\u001b[0;32m   1117\u001b[0m     \u001b[38;5;28;01mfor\u001b[39;00m tp, records \u001b[38;5;129;01min\u001b[39;00m six\u001b[38;5;241m.\u001b[39miteritems(record_map):\n\u001b[0;32m   1118\u001b[0m         \u001b[38;5;66;03m# Generators are stateful, and it is possible that the tp / records\u001b[39;00m\n\u001b[0;32m   1119\u001b[0m         \u001b[38;5;66;03m# here may become stale during iteration -- i.e., we seek to a\u001b[39;00m\n\u001b[0;32m   1120\u001b[0m         \u001b[38;5;66;03m# different offset, pause consumption, or lose assignment.\u001b[39;00m\n\u001b[0;32m   1121\u001b[0m         \u001b[38;5;28;01mfor\u001b[39;00m record \u001b[38;5;129;01min\u001b[39;00m records:\n\u001b[0;32m   1122\u001b[0m             \u001b[38;5;66;03m# is_fetchable(tp) should handle assignment changes and offset\u001b[39;00m\n\u001b[0;32m   1123\u001b[0m             \u001b[38;5;66;03m# resets; for all other changes (e.g., seeks) we'll rely on the\u001b[39;00m\n\u001b[0;32m   1124\u001b[0m             \u001b[38;5;66;03m# outer function destroying the existing iterator/generator\u001b[39;00m\n\u001b[0;32m   1125\u001b[0m             \u001b[38;5;66;03m# via self._iterator = None\u001b[39;00m\n",
      "File \u001b[1;32mc:\\Users\\RickyS-PC\\miniconda3\\envs\\ftde-final-project\\lib\\site-packages\\kafka\\consumer\\group.py:655\u001b[0m, in \u001b[0;36mKafkaConsumer.poll\u001b[1;34m(self, timeout_ms, max_records, update_offsets)\u001b[0m\n\u001b[0;32m    653\u001b[0m remaining \u001b[38;5;241m=\u001b[39m timeout_ms\n\u001b[0;32m    654\u001b[0m \u001b[38;5;28;01mwhile\u001b[39;00m \u001b[38;5;28;01mTrue\u001b[39;00m:\n\u001b[1;32m--> 655\u001b[0m     records \u001b[38;5;241m=\u001b[39m \u001b[38;5;28;43mself\u001b[39;49m\u001b[38;5;241;43m.\u001b[39;49m\u001b[43m_poll_once\u001b[49m\u001b[43m(\u001b[49m\u001b[43mremaining\u001b[49m\u001b[43m,\u001b[49m\u001b[43m \u001b[49m\u001b[43mmax_records\u001b[49m\u001b[43m,\u001b[49m\u001b[43m \u001b[49m\u001b[43mupdate_offsets\u001b[49m\u001b[38;5;241;43m=\u001b[39;49m\u001b[43mupdate_offsets\u001b[49m\u001b[43m)\u001b[49m\n\u001b[0;32m    656\u001b[0m     \u001b[38;5;28;01mif\u001b[39;00m records:\n\u001b[0;32m    657\u001b[0m         \u001b[38;5;28;01mreturn\u001b[39;00m records\n",
      "File \u001b[1;32mc:\\Users\\RickyS-PC\\miniconda3\\envs\\ftde-final-project\\lib\\site-packages\\kafka\\consumer\\group.py:702\u001b[0m, in \u001b[0;36mKafkaConsumer._poll_once\u001b[1;34m(self, timeout_ms, max_records, update_offsets)\u001b[0m\n\u001b[0;32m    699\u001b[0m     \u001b[38;5;28mself\u001b[39m\u001b[38;5;241m.\u001b[39m_client\u001b[38;5;241m.\u001b[39mpoll(timeout_ms\u001b[38;5;241m=\u001b[39m\u001b[38;5;241m0\u001b[39m)\n\u001b[0;32m    701\u001b[0m timeout_ms \u001b[38;5;241m=\u001b[39m \u001b[38;5;28mmin\u001b[39m(timeout_ms, \u001b[38;5;28mself\u001b[39m\u001b[38;5;241m.\u001b[39m_coordinator\u001b[38;5;241m.\u001b[39mtime_to_next_poll() \u001b[38;5;241m*\u001b[39m \u001b[38;5;241m1000\u001b[39m)\n\u001b[1;32m--> 702\u001b[0m \u001b[38;5;28;43mself\u001b[39;49m\u001b[38;5;241;43m.\u001b[39;49m\u001b[43m_client\u001b[49m\u001b[38;5;241;43m.\u001b[39;49m\u001b[43mpoll\u001b[49m\u001b[43m(\u001b[49m\u001b[43mtimeout_ms\u001b[49m\u001b[38;5;241;43m=\u001b[39;49m\u001b[43mtimeout_ms\u001b[49m\u001b[43m)\u001b[49m\n\u001b[0;32m    703\u001b[0m \u001b[38;5;66;03m# after the long poll, we should check whether the group needs to rebalance\u001b[39;00m\n\u001b[0;32m    704\u001b[0m \u001b[38;5;66;03m# prior to returning data so that the group can stabilize faster\u001b[39;00m\n\u001b[0;32m    705\u001b[0m \u001b[38;5;28;01mif\u001b[39;00m \u001b[38;5;28mself\u001b[39m\u001b[38;5;241m.\u001b[39m_coordinator\u001b[38;5;241m.\u001b[39mneed_rejoin():\n",
      "File \u001b[1;32mc:\\Users\\RickyS-PC\\miniconda3\\envs\\ftde-final-project\\lib\\site-packages\\kafka\\client_async.py:602\u001b[0m, in \u001b[0;36mKafkaClient.poll\u001b[1;34m(self, timeout_ms, future)\u001b[0m\n\u001b[0;32m    599\u001b[0m             timeout \u001b[38;5;241m=\u001b[39m \u001b[38;5;28mmin\u001b[39m(timeout, \u001b[38;5;28mself\u001b[39m\u001b[38;5;241m.\u001b[39mconfig[\u001b[38;5;124m'\u001b[39m\u001b[38;5;124mretry_backoff_ms\u001b[39m\u001b[38;5;124m'\u001b[39m])\n\u001b[0;32m    600\u001b[0m         timeout \u001b[38;5;241m=\u001b[39m \u001b[38;5;28mmax\u001b[39m(\u001b[38;5;241m0\u001b[39m, timeout)  \u001b[38;5;66;03m# avoid negative timeouts\u001b[39;00m\n\u001b[1;32m--> 602\u001b[0m     \u001b[38;5;28;43mself\u001b[39;49m\u001b[38;5;241;43m.\u001b[39;49m\u001b[43m_poll\u001b[49m\u001b[43m(\u001b[49m\u001b[43mtimeout\u001b[49m\u001b[43m \u001b[49m\u001b[38;5;241;43m/\u001b[39;49m\u001b[43m \u001b[49m\u001b[38;5;241;43m1000\u001b[39;49m\u001b[43m)\u001b[49m\n\u001b[0;32m    604\u001b[0m \u001b[38;5;66;03m# called without the lock to avoid deadlock potential\u001b[39;00m\n\u001b[0;32m    605\u001b[0m \u001b[38;5;66;03m# if handlers need to acquire locks\u001b[39;00m\n\u001b[0;32m    606\u001b[0m responses\u001b[38;5;241m.\u001b[39mextend(\u001b[38;5;28mself\u001b[39m\u001b[38;5;241m.\u001b[39m_fire_pending_completed_requests())\n",
      "File \u001b[1;32mc:\\Users\\RickyS-PC\\miniconda3\\envs\\ftde-final-project\\lib\\site-packages\\kafka\\client_async.py:634\u001b[0m, in \u001b[0;36mKafkaClient._poll\u001b[1;34m(self, timeout)\u001b[0m\n\u001b[0;32m    631\u001b[0m \u001b[38;5;28mself\u001b[39m\u001b[38;5;241m.\u001b[39m_register_send_sockets()\n\u001b[0;32m    633\u001b[0m start_select \u001b[38;5;241m=\u001b[39m time\u001b[38;5;241m.\u001b[39mtime()\n\u001b[1;32m--> 634\u001b[0m ready \u001b[38;5;241m=\u001b[39m \u001b[38;5;28;43mself\u001b[39;49m\u001b[38;5;241;43m.\u001b[39;49m\u001b[43m_selector\u001b[49m\u001b[38;5;241;43m.\u001b[39;49m\u001b[43mselect\u001b[49m\u001b[43m(\u001b[49m\u001b[43mtimeout\u001b[49m\u001b[43m)\u001b[49m\n\u001b[0;32m    635\u001b[0m end_select \u001b[38;5;241m=\u001b[39m time\u001b[38;5;241m.\u001b[39mtime()\n\u001b[0;32m    636\u001b[0m \u001b[38;5;28;01mif\u001b[39;00m \u001b[38;5;28mself\u001b[39m\u001b[38;5;241m.\u001b[39m_sensors:\n",
      "File \u001b[1;32mc:\\Users\\RickyS-PC\\miniconda3\\envs\\ftde-final-project\\lib\\selectors.py:324\u001b[0m, in \u001b[0;36mSelectSelector.select\u001b[1;34m(self, timeout)\u001b[0m\n\u001b[0;32m    322\u001b[0m ready \u001b[38;5;241m=\u001b[39m []\n\u001b[0;32m    323\u001b[0m \u001b[38;5;28;01mtry\u001b[39;00m:\n\u001b[1;32m--> 324\u001b[0m     r, w, _ \u001b[38;5;241m=\u001b[39m \u001b[38;5;28;43mself\u001b[39;49m\u001b[38;5;241;43m.\u001b[39;49m\u001b[43m_select\u001b[49m\u001b[43m(\u001b[49m\u001b[38;5;28;43mself\u001b[39;49m\u001b[38;5;241;43m.\u001b[39;49m\u001b[43m_readers\u001b[49m\u001b[43m,\u001b[49m\u001b[43m \u001b[49m\u001b[38;5;28;43mself\u001b[39;49m\u001b[38;5;241;43m.\u001b[39;49m\u001b[43m_writers\u001b[49m\u001b[43m,\u001b[49m\u001b[43m \u001b[49m\u001b[43m[\u001b[49m\u001b[43m]\u001b[49m\u001b[43m,\u001b[49m\u001b[43m \u001b[49m\u001b[43mtimeout\u001b[49m\u001b[43m)\u001b[49m\n\u001b[0;32m    325\u001b[0m \u001b[38;5;28;01mexcept\u001b[39;00m \u001b[38;5;167;01mInterruptedError\u001b[39;00m:\n\u001b[0;32m    326\u001b[0m     \u001b[38;5;28;01mreturn\u001b[39;00m ready\n",
      "File \u001b[1;32mc:\\Users\\RickyS-PC\\miniconda3\\envs\\ftde-final-project\\lib\\selectors.py:315\u001b[0m, in \u001b[0;36mSelectSelector._select\u001b[1;34m(self, r, w, _, timeout)\u001b[0m\n\u001b[0;32m    314\u001b[0m \u001b[38;5;28;01mdef\u001b[39;00m \u001b[38;5;21m_select\u001b[39m(\u001b[38;5;28mself\u001b[39m, r, w, _, timeout\u001b[38;5;241m=\u001b[39m\u001b[38;5;28;01mNone\u001b[39;00m):\n\u001b[1;32m--> 315\u001b[0m     r, w, x \u001b[38;5;241m=\u001b[39m \u001b[43mselect\u001b[49m\u001b[38;5;241;43m.\u001b[39;49m\u001b[43mselect\u001b[49m\u001b[43m(\u001b[49m\u001b[43mr\u001b[49m\u001b[43m,\u001b[49m\u001b[43m \u001b[49m\u001b[43mw\u001b[49m\u001b[43m,\u001b[49m\u001b[43m \u001b[49m\u001b[43mw\u001b[49m\u001b[43m,\u001b[49m\u001b[43m \u001b[49m\u001b[43mtimeout\u001b[49m\u001b[43m)\u001b[49m\n\u001b[0;32m    316\u001b[0m     \u001b[38;5;28;01mreturn\u001b[39;00m r, w \u001b[38;5;241m+\u001b[39m x, []\n",
      "\u001b[1;31mKeyboardInterrupt\u001b[0m: "
     ]
    }
   ],
   "source": [
    "import json\n",
    "from kafka import KafkaConsumer\n",
    "\n",
    "if __name__ == \"__main__\":\n",
    "    consumer = KafkaConsumer(\"ftde02-project4\", bootstrap_servers='localhost:9093')\n",
    "    print(\"Starting the consumer\")\n",
    "    \n",
    "    for msg in consumer:\n",
    "        print(f\"Records = {json.loads(msg.value)}\")\n",
    "        \n",
    "        # Parsing pesan Kafka\n",
    "        data = json.loads(msg.value)"
   ]
  },
  {
   "cell_type": "code",
   "execution_count": 3,
   "id": "b8096f7d-479a-4ca5-abe1-e93781245552",
   "metadata": {
    "tags": []
   },
   "outputs": [
    {
     "data": {
      "text/plain": [
       "{'step': 1,\n",
       " 'type': 'PAYMENT',\n",
       " 'amount': 7823.46,\n",
       " 'nameOrig': 'C260084831',\n",
       " 'newbalanceOrig': 0.0,\n",
       " 'nameDest': 'M267814113',\n",
       " 'newbalanceDest': 0.0}"
      ]
     },
     "execution_count": 3,
     "metadata": {},
     "output_type": "execute_result"
    }
   ],
   "source": [
    "data"
   ]
  },
  {
   "cell_type": "code",
   "execution_count": 4,
   "id": "c60e1b48-e55f-497d-ae95-fb432e7c63e6",
   "metadata": {},
   "outputs": [
    {
     "name": "stdout",
     "output_type": "stream",
     "text": [
      "PostgreSQL DB connection success!\n"
     ]
    }
   ],
   "source": [
    "import pandas as pd\n",
    "import urllib.parse\n",
    "\n",
    "from sqlalchemy import create_engine\n",
    "\n",
    "# Informasi koneksi ke PostgreSQL\n",
    "username = \"ftde02\"\n",
    "password = \"ftde02!@#\"\n",
    "host = \"localhost\"\n",
    "port = \"6543\"\n",
    "database = \"stream_processing\"\n",
    "password = urllib.parse.quote_plus(password)\n",
    "\n",
    "# URL koneksi ke PostgreSQL\n",
    "db_url = f\"postgresql://{username}:{password}@{host}:{port}/{database}\"\n",
    "engine = create_engine(db_url)\n",
    "print(\"PostgreSQL DB connection success!\")"
   ]
  },
  {
   "cell_type": "code",
   "execution_count": 5,
   "id": "f8245206-7fcf-45b3-91ca-097b8e742131",
   "metadata": {
    "tags": []
   },
   "outputs": [
    {
     "data": {
      "text/html": [
       "<div>\n",
       "<style scoped>\n",
       "    .dataframe tbody tr th:only-of-type {\n",
       "        vertical-align: middle;\n",
       "    }\n",
       "\n",
       "    .dataframe tbody tr th {\n",
       "        vertical-align: top;\n",
       "    }\n",
       "\n",
       "    .dataframe thead th {\n",
       "        text-align: right;\n",
       "    }\n",
       "</style>\n",
       "<table border=\"1\" class=\"dataframe\">\n",
       "  <thead>\n",
       "    <tr style=\"text-align: right;\">\n",
       "      <th></th>\n",
       "      <th>nameOrig</th>\n",
       "      <th>oldbalanceOrg</th>\n",
       "      <th>nameDest</th>\n",
       "      <th>oldbalanceDest</th>\n",
       "    </tr>\n",
       "  </thead>\n",
       "  <tbody>\n",
       "    <tr>\n",
       "      <th>0</th>\n",
       "      <td>C1231006815</td>\n",
       "      <td>170136.0</td>\n",
       "      <td>M1979787155</td>\n",
       "      <td>0.0</td>\n",
       "    </tr>\n",
       "    <tr>\n",
       "      <th>1</th>\n",
       "      <td>C1666544295</td>\n",
       "      <td>21249.0</td>\n",
       "      <td>M2044282225</td>\n",
       "      <td>0.0</td>\n",
       "    </tr>\n",
       "    <tr>\n",
       "      <th>2</th>\n",
       "      <td>C1305486145</td>\n",
       "      <td>181.0</td>\n",
       "      <td>C553264065</td>\n",
       "      <td>0.0</td>\n",
       "    </tr>\n",
       "    <tr>\n",
       "      <th>3</th>\n",
       "      <td>C840083671</td>\n",
       "      <td>181.0</td>\n",
       "      <td>C38997010</td>\n",
       "      <td>21182.0</td>\n",
       "    </tr>\n",
       "    <tr>\n",
       "      <th>4</th>\n",
       "      <td>C2048537720</td>\n",
       "      <td>41554.0</td>\n",
       "      <td>M1230701703</td>\n",
       "      <td>0.0</td>\n",
       "    </tr>\n",
       "  </tbody>\n",
       "</table>\n",
       "</div>"
      ],
      "text/plain": [
       "      nameOrig  oldbalanceOrg     nameDest  oldbalanceDest\n",
       "0  C1231006815       170136.0  M1979787155             0.0\n",
       "1  C1666544295        21249.0  M2044282225             0.0\n",
       "2  C1305486145          181.0   C553264065             0.0\n",
       "3   C840083671          181.0    C38997010         21182.0\n",
       "4  C2048537720        41554.0  M1230701703             0.0"
      ]
     },
     "execution_count": 5,
     "metadata": {},
     "output_type": "execute_result"
    }
   ],
   "source": [
    "df = pd.read_sql_query('SELECT * FROM old_information;', engine)\n",
    "df.head(5)"
   ]
  },
  {
   "cell_type": "code",
   "execution_count": 6,
   "id": "29f5b179-4f7d-4bab-bf0c-afcfddd62a3e",
   "metadata": {
    "tags": []
   },
   "outputs": [
    {
     "data": {
      "text/plain": [
       "Index(['nameOrig', 'oldbalanceOrg', 'nameDest', 'oldbalanceDest'], dtype='object')"
      ]
     },
     "execution_count": 6,
     "metadata": {},
     "output_type": "execute_result"
    }
   ],
   "source": [
    "df.columns"
   ]
  },
  {
   "cell_type": "markdown",
   "id": "53f78694-0183-4f25-bfbc-0255e4db89b6",
   "metadata": {},
   "source": [
    "### **Join Data From Producer Kafka and Database PostgreSQL**"
   ]
  },
  {
   "cell_type": "code",
   "execution_count": 7,
   "id": "b5f0c086-65df-4756-8a2a-c9919fa5fb97",
   "metadata": {
    "tags": []
   },
   "outputs": [
    {
     "data": {
      "text/html": [
       "<div>\n",
       "<style scoped>\n",
       "    .dataframe tbody tr th:only-of-type {\n",
       "        vertical-align: middle;\n",
       "    }\n",
       "\n",
       "    .dataframe tbody tr th {\n",
       "        vertical-align: top;\n",
       "    }\n",
       "\n",
       "    .dataframe thead th {\n",
       "        text-align: right;\n",
       "    }\n",
       "</style>\n",
       "<table border=\"1\" class=\"dataframe\">\n",
       "  <thead>\n",
       "    <tr style=\"text-align: right;\">\n",
       "      <th></th>\n",
       "      <th>step</th>\n",
       "      <th>type</th>\n",
       "      <th>amount</th>\n",
       "      <th>nameOrig</th>\n",
       "      <th>newbalanceOrig</th>\n",
       "      <th>nameDest</th>\n",
       "      <th>newbalanceDest</th>\n",
       "    </tr>\n",
       "  </thead>\n",
       "  <tbody>\n",
       "    <tr>\n",
       "      <th>0</th>\n",
       "      <td>1</td>\n",
       "      <td>PAYMENT</td>\n",
       "      <td>7823.46</td>\n",
       "      <td>C260084831</td>\n",
       "      <td>0.0</td>\n",
       "      <td>M267814113</td>\n",
       "      <td>0.0</td>\n",
       "    </tr>\n",
       "  </tbody>\n",
       "</table>\n",
       "</div>"
      ],
      "text/plain": [
       "   step     type   amount    nameOrig  newbalanceOrig    nameDest  \\\n",
       "0     1  PAYMENT  7823.46  C260084831             0.0  M267814113   \n",
       "\n",
       "   newbalanceDest  \n",
       "0             0.0  "
      ]
     },
     "execution_count": 7,
     "metadata": {},
     "output_type": "execute_result"
    }
   ],
   "source": [
    "produder = pd.DataFrame([data])\n",
    "produder"
   ]
  },
  {
   "cell_type": "code",
   "execution_count": 8,
   "id": "77566c6a-a985-43c3-b865-c25dd704126d",
   "metadata": {
    "tags": []
   },
   "outputs": [
    {
     "data": {
      "text/plain": [
       "{'step': 1,\n",
       " 'type': 'PAYMENT',\n",
       " 'amount': 7823.46,\n",
       " 'newbalanceOrig': 0.0,\n",
       " 'newbalanceDest': 0.0,\n",
       " 'oldbalanceOrg': 998.0,\n",
       " 'oldbalanceDest': 0.0}"
      ]
     },
     "execution_count": 8,
     "metadata": {},
     "output_type": "execute_result"
    }
   ],
   "source": [
    "data = produder.merge(df, how='inner', on=['nameOrig','nameDest'])\n",
    "predict = data.drop(['nameOrig','nameDest'], axis=1)\n",
    "predict = predict.to_dict('index')[0]\n",
    "predict"
   ]
  },
  {
   "cell_type": "markdown",
   "id": "efe2b082-af9b-4fec-aa3f-82e8cadc7d90",
   "metadata": {},
   "source": [
    "### **Precit Fraud Detection**"
   ]
  },
  {
   "cell_type": "code",
   "execution_count": 9,
   "id": "98c574aa-b189-4ebb-8581-e498ddfe6c08",
   "metadata": {
    "tags": []
   },
   "outputs": [],
   "source": [
    "from modelling import FraudModel"
   ]
  },
  {
   "cell_type": "code",
   "execution_count": 10,
   "id": "7c6ffa8e-cf05-48fd-bd24-d04ff49535d5",
   "metadata": {
    "tags": []
   },
   "outputs": [
    {
     "data": {
      "text/plain": [
       "'c:\\\\Users\\\\RickyS-PC\\\\Desktop\\\\Training\\\\Tech-software\\\\Bootcamp\\\\Digital-Skola-FS-Data-Engineer\\\\Class\\\\mini-project4\\\\modelling\\\\'"
      ]
     },
     "execution_count": 10,
     "metadata": {},
     "output_type": "execute_result"
    }
   ],
   "source": [
    "#parameter inputan path\n",
    "import os\n",
    "\n",
    "path = os.getcwd()\n",
    "path = path + \"\\\\modelling\\\\\"\n",
    "path"
   ]
  },
  {
   "cell_type": "code",
   "execution_count": 11,
   "id": "089ed470-a8f6-46f6-9e77-d4f7dcc596b2",
   "metadata": {
    "tags": []
   },
   "outputs": [
    {
     "name": "stderr",
     "output_type": "stream",
     "text": [
      "c:\\Users\\RickyS-PC\\miniconda3\\envs\\ftde-final-project\\lib\\site-packages\\sklearn\\base.py:376: InconsistentVersionWarning: Trying to unpickle estimator OneHotEncoder from version 1.3.0 when using version 1.5.2. This might lead to breaking code or invalid results. Use at your own risk. For more info please refer to:\n",
      "https://scikit-learn.org/stable/model_persistence.html#security-maintainability-limitations\n",
      "  warnings.warn(\n",
      "c:\\Users\\RickyS-PC\\miniconda3\\envs\\ftde-final-project\\lib\\site-packages\\sklearn\\base.py:376: InconsistentVersionWarning: Trying to unpickle estimator StandardScaler from version 1.3.0 when using version 1.5.2. This might lead to breaking code or invalid results. Use at your own risk. For more info please refer to:\n",
      "https://scikit-learn.org/stable/model_persistence.html#security-maintainability-limitations\n",
      "  warnings.warn(\n",
      "c:\\Users\\RickyS-PC\\miniconda3\\envs\\ftde-final-project\\lib\\site-packages\\sklearn\\base.py:376: InconsistentVersionWarning: Trying to unpickle estimator StandardScaler from version 1.3.0 when using version 1.5.2. This might lead to breaking code or invalid results. Use at your own risk. For more info please refer to:\n",
      "https://scikit-learn.org/stable/model_persistence.html#security-maintainability-limitations\n",
      "  warnings.warn(\n",
      "c:\\Users\\RickyS-PC\\miniconda3\\envs\\ftde-final-project\\lib\\site-packages\\sklearn\\base.py:376: InconsistentVersionWarning: Trying to unpickle estimator StandardScaler from version 1.3.0 when using version 1.5.2. This might lead to breaking code or invalid results. Use at your own risk. For more info please refer to:\n",
      "https://scikit-learn.org/stable/model_persistence.html#security-maintainability-limitations\n",
      "  warnings.warn(\n",
      "c:\\Users\\RickyS-PC\\miniconda3\\envs\\ftde-final-project\\lib\\site-packages\\sklearn\\base.py:376: InconsistentVersionWarning: Trying to unpickle estimator StandardScaler from version 1.3.0 when using version 1.5.2. This might lead to breaking code or invalid results. Use at your own risk. For more info please refer to:\n",
      "https://scikit-learn.org/stable/model_persistence.html#security-maintainability-limitations\n",
      "  warnings.warn(\n",
      "c:\\Users\\RickyS-PC\\miniconda3\\envs\\ftde-final-project\\lib\\site-packages\\sklearn\\base.py:376: InconsistentVersionWarning: Trying to unpickle estimator StandardScaler from version 1.3.0 when using version 1.5.2. This might lead to breaking code or invalid results. Use at your own risk. For more info please refer to:\n",
      "https://scikit-learn.org/stable/model_persistence.html#security-maintainability-limitations\n",
      "  warnings.warn(\n",
      "c:\\Users\\RickyS-PC\\miniconda3\\envs\\ftde-final-project\\lib\\site-packages\\sklearn\\base.py:376: InconsistentVersionWarning: Trying to unpickle estimator LogisticRegression from version 1.3.0 when using version 1.5.2. This might lead to breaking code or invalid results. Use at your own risk. For more info please refer to:\n",
      "https://scikit-learn.org/stable/model_persistence.html#security-maintainability-limitations\n",
      "  warnings.warn(\n"
     ]
    },
    {
     "data": {
      "text/plain": [
       "'White List'"
      ]
     },
     "execution_count": 11,
     "metadata": {},
     "output_type": "execute_result"
    }
   ],
   "source": [
    "result = FraudModel.runModel(predict, path)\n",
    "result"
   ]
  },
  {
   "cell_type": "code",
   "execution_count": 12,
   "id": "09891301-0a1b-47f6-8609-b689cdee1321",
   "metadata": {
    "tags": []
   },
   "outputs": [
    {
     "data": {
      "text/html": [
       "<div>\n",
       "<style scoped>\n",
       "    .dataframe tbody tr th:only-of-type {\n",
       "        vertical-align: middle;\n",
       "    }\n",
       "\n",
       "    .dataframe tbody tr th {\n",
       "        vertical-align: top;\n",
       "    }\n",
       "\n",
       "    .dataframe thead th {\n",
       "        text-align: right;\n",
       "    }\n",
       "</style>\n",
       "<table border=\"1\" class=\"dataframe\">\n",
       "  <thead>\n",
       "    <tr style=\"text-align: right;\">\n",
       "      <th></th>\n",
       "      <th>step</th>\n",
       "      <th>type</th>\n",
       "      <th>amount</th>\n",
       "      <th>nameOrig</th>\n",
       "      <th>newbalanceOrig</th>\n",
       "      <th>nameDest</th>\n",
       "      <th>newbalanceDest</th>\n",
       "      <th>oldbalanceOrg</th>\n",
       "      <th>oldbalanceDest</th>\n",
       "      <th>predict</th>\n",
       "    </tr>\n",
       "  </thead>\n",
       "  <tbody>\n",
       "    <tr>\n",
       "      <th>0</th>\n",
       "      <td>1</td>\n",
       "      <td>PAYMENT</td>\n",
       "      <td>7823.46</td>\n",
       "      <td>C260084831</td>\n",
       "      <td>0.0</td>\n",
       "      <td>M267814113</td>\n",
       "      <td>0.0</td>\n",
       "      <td>998.0</td>\n",
       "      <td>0.0</td>\n",
       "      <td>White List</td>\n",
       "    </tr>\n",
       "  </tbody>\n",
       "</table>\n",
       "</div>"
      ],
      "text/plain": [
       "   step     type   amount    nameOrig  newbalanceOrig    nameDest  \\\n",
       "0     1  PAYMENT  7823.46  C260084831             0.0  M267814113   \n",
       "\n",
       "   newbalanceDest  oldbalanceOrg  oldbalanceDest     predict  \n",
       "0             0.0          998.0             0.0  White List  "
      ]
     },
     "execution_count": 12,
     "metadata": {},
     "output_type": "execute_result"
    }
   ],
   "source": [
    "data['predict'] = result\n",
    "data"
   ]
  },
  {
   "cell_type": "markdown",
   "id": "5dbd70e8-4187-490c-9cad-4cda131930d3",
   "metadata": {},
   "source": [
    "### **Inser MongoDB**"
   ]
  },
  {
   "cell_type": "code",
   "execution_count": 57,
   "id": "1f68857a-995b-4ae9-9c0c-4624f1498074",
   "metadata": {
    "tags": []
   },
   "outputs": [
    {
     "name": "stdout",
     "output_type": "stream",
     "text": [
      "Data telah disimpan ke MongoDB\n"
     ]
    }
   ],
   "source": [
    "from pymongo import MongoClient\n",
    "\n",
    "# Mengatur koneksi ke MongoDB\n",
    "mongo_client = MongoClient(\"mongodb://127.0.0.1:27017\")\n",
    "\n",
    "db = mongo_client[\"ftde02\"]\n",
    "collection = db[\"project4-collection\"]\n",
    "\n",
    "if isinstance(data.to_dict('index')[0], list):\n",
    "    collection.insert_many(data.to_dict('index')[0])\n",
    "else:\n",
    "    collection.insert_one(data.to_dict('index')[0])        \n",
    "    print(\"Data telah disimpan ke MongoDB\")"
   ]
  },
  {
   "cell_type": "code",
   "execution_count": 58,
   "id": "ae007220-e7c5-4357-b22d-ede28b8d7f57",
   "metadata": {
    "tags": []
   },
   "outputs": [
    {
     "data": {
      "text/html": [
       "<div>\n",
       "<style scoped>\n",
       "    .dataframe tbody tr th:only-of-type {\n",
       "        vertical-align: middle;\n",
       "    }\n",
       "\n",
       "    .dataframe tbody tr th {\n",
       "        vertical-align: top;\n",
       "    }\n",
       "\n",
       "    .dataframe thead th {\n",
       "        text-align: right;\n",
       "    }\n",
       "</style>\n",
       "<table border=\"1\" class=\"dataframe\">\n",
       "  <thead>\n",
       "    <tr style=\"text-align: right;\">\n",
       "      <th></th>\n",
       "      <th>_id</th>\n",
       "      <th>step</th>\n",
       "      <th>type</th>\n",
       "      <th>amount</th>\n",
       "      <th>nameOrig</th>\n",
       "      <th>newbalanceOrig</th>\n",
       "      <th>nameDest</th>\n",
       "      <th>newbalanceDest</th>\n",
       "      <th>oldbalanceOrg</th>\n",
       "      <th>oldbalanceDest</th>\n",
       "      <th>predict</th>\n",
       "    </tr>\n",
       "  </thead>\n",
       "  <tbody>\n",
       "    <tr>\n",
       "      <th>0</th>\n",
       "      <td>668a24415444906cb867cdba</td>\n",
       "      <td>1</td>\n",
       "      <td>PAYMENT</td>\n",
       "      <td>2131.84</td>\n",
       "      <td>C1987977423</td>\n",
       "      <td>0.0</td>\n",
       "      <td>M61073295</td>\n",
       "      <td>0.0</td>\n",
       "      <td>224.0</td>\n",
       "      <td>0.0</td>\n",
       "      <td>White List</td>\n",
       "    </tr>\n",
       "  </tbody>\n",
       "</table>\n",
       "</div>"
      ],
      "text/plain": [
       "                        _id  step     type   amount     nameOrig  \\\n",
       "0  668a24415444906cb867cdba     1  PAYMENT  2131.84  C1987977423   \n",
       "\n",
       "   newbalanceOrig   nameDest  newbalanceDest  oldbalanceOrg  oldbalanceDest  \\\n",
       "0             0.0  M61073295             0.0          224.0             0.0   \n",
       "\n",
       "      predict  \n",
       "0  White List  "
      ]
     },
     "execution_count": 58,
     "metadata": {},
     "output_type": "execute_result"
    }
   ],
   "source": [
    "mongo_client = MongoClient(\"mongodb://127.0.0.1:27017\")\n",
    "db = mongo_client[\"ftde02\"]\n",
    "collection = db[\"project4-collection\"]\n",
    "    \n",
    "# Membaca data dari MongoDB ke dalam list of dictionaries\n",
    "data_from_mongo = list(collection.find())\n",
    "    \n",
    "# Membaca data ke dalam DataFrame\n",
    "df = pd.DataFrame(data_from_mongo)\n",
    "df"
   ]
  }
 ],
 "metadata": {
  "kernelspec": {
   "display_name": "Python 3 (ipykernel)",
   "language": "python",
   "name": "python3"
  },
  "language_info": {
   "codemirror_mode": {
    "name": "ipython",
    "version": 3
   },
   "file_extension": ".py",
   "mimetype": "text/x-python",
   "name": "python",
   "nbconvert_exporter": "python",
   "pygments_lexer": "ipython3",
   "version": "3.10.14"
  }
 },
 "nbformat": 4,
 "nbformat_minor": 5
}
